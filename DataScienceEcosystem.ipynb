{
 "cells": [
  {
   "cell_type": "markdown",
   "id": "1eae052d-2ae9-46f4-94f5-04ecbc76e6c9",
   "metadata": {},
   "source": [
    "# Data Science Tools and Ecosystem"
   ]
  },
  {
   "cell_type": "markdown",
   "id": "24febff8-7a86-4514-91eb-9778ea6ce2ae",
   "metadata": {},
   "source": [
    "In this notebook, Data Science Tools and Ecosystem are summarized."
   ]
  },
  {
   "cell_type": "markdown",
   "id": "4d5f40b2-2f3c-42ad-9d00-1a35060cb2bc",
   "metadata": {},
   "source": [
    "**Objectives:**"
   ]
  },
  {
   "cell_type": "markdown",
   "id": "136b166d-c788-4026-aa97-d38cded66709",
   "metadata": {},
   "source": [
    "- List popular languages for Data Science\n",
    "- List popular libraries used by Data Scientist\n",
    "- List some arithmatic expressions in Python"
   ]
  },
  {
   "cell_type": "markdown",
   "id": "ef9a26c7-5c7b-420a-94ae-7b02c595b0c5",
   "metadata": {},
   "source": [
    "Some of the popular languages that Data Scientists use are:\n",
    "1. Python\n",
    "2. R\n",
    "3. SQL\n",
    "4. C++\n",
    "5. Javascript\n",
    "6. Julia"
   ]
  },
  {
   "cell_type": "markdown",
   "id": "d40e57f8-6f6c-4460-9d4d-7c7928f1d096",
   "metadata": {},
   "source": [
    "Some of the commonly used libraries used by Data Scientists include:\n",
    "1. Numpy, Pandas, Scikit-learn, Matplotlib / Seaborn, Tensorflow / Pytorch (Python)\n",
    "2. ggplot, dplyr, Caret (R)\n",
    "3. JuliaStats (Julia)"
   ]
  },
  {
   "cell_type": "markdown",
   "id": "7fffb45f-bf71-49c1-99e0-9aca1fb6c52e",
   "metadata": {},
   "source": [
    "| Data Science Tools |\n",
    "|-------------------|\n",
    "|VS code            |\n",
    "|Rstudio            |\n",
    "|Pycharm            |\n",
    "|Jupyter Notebook   |"
   ]
  },
  {
   "cell_type": "markdown",
   "id": "f3f23388-449b-45a1-9af7-0ef36974db5b",
   "metadata": {},
   "source": [
    "### Below are a few examples of evaluating arithmetic expressions in Python\n",
    "9 + 9 = 18"
   ]
  },
  {
   "cell_type": "code",
   "execution_count": 3,
   "id": "fa89aa1a-5266-43bf-ad55-4d6a3cd57220",
   "metadata": {},
   "outputs": [
    {
     "data": {
      "text/plain": [
       "17"
      ]
     },
     "execution_count": 3,
     "metadata": {},
     "output_type": "execute_result"
    }
   ],
   "source": [
    "# This a simple arithmetic expression to mutiply then add integers\n",
    "(3*4)+5"
   ]
  },
  {
   "cell_type": "code",
   "execution_count": 4,
   "id": "65b2ee3b-d392-468d-b822-d09ac326a4de",
   "metadata": {},
   "outputs": [
    {
     "name": "stdout",
     "output_type": "stream",
     "text": [
      "3.3333333333333335 hours\n"
     ]
    }
   ],
   "source": [
    "# This will convert 200 minutes to hours by diving by 60\n",
    "hours = 200/60\n",
    "print(f\"{hours} hours\")"
   ]
  },
  {
   "cell_type": "markdown",
   "id": "ce9da095-1ffa-4ca9-a6f6-ab12cf70919c",
   "metadata": {},
   "source": [
    "## Author\n",
    "Yu Tianrui"
   ]
  }
 ],
 "metadata": {
  "kernelspec": {
   "display_name": "Python [conda env:base] *",
   "language": "python",
   "name": "conda-base-py"
  },
  "language_info": {
   "codemirror_mode": {
    "name": "ipython",
    "version": 3
   },
   "file_extension": ".py",
   "mimetype": "text/x-python",
   "name": "python",
   "nbconvert_exporter": "python",
   "pygments_lexer": "ipython3",
   "version": "3.13.5"
  }
 },
 "nbformat": 4,
 "nbformat_minor": 5
}
